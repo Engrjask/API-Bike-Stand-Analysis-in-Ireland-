{
 "cells": [
  {
   "cell_type": "code",
   "execution_count": 3,
   "id": "617c7350",
   "metadata": {},
   "outputs": [],
   "source": [
    "import numpy\n",
    "import pandas as pd\n",
    "from pandas import DataFrame, Series "
   ]
  },
  {
   "cell_type": "markdown",
   "id": "4d498c86",
   "metadata": {},
   "source": [
    "# Author: Joseph Ajulo (K00265910)\n",
    "\n",
    "\n",
    "# ANALYSIS TASK 3"
   ]
  },
  {
   "cell_type": "markdown",
   "id": "44908b76",
   "metadata": {},
   "source": [
    "About the Dataset:\n",
    "The dataset describes the status of each bike rental stand in the cities of Dublin. The city are indicated by the contractName column. The columns contractName and number uniquely identify each bike stand. The lastUpdate attribute specifies the time when the status of the bike rental station was last updated. Although the JCDecaux API server updates data at every point in time\n",
    "\n",
    "\n",
    "OBJECTIVE:\n",
    "Our objective here is to find answers to the following questions\n",
    "1. At what period of the day are bikes from the Dublin stands being utilised the most.\n",
    "2. Top address with more avaiable bikes all day long.\n",
    "3. Most active and least active bike station?\n",
    "4. bike stations and addresses with larger bike capacity"
   ]
  },
  {
   "cell_type": "markdown",
   "id": "20fed67f",
   "metadata": {},
   "source": [
    "    IMPORTING ALL CSV FILES COLLECTED AT DIFFERENT TIME WITHIN 24RHS"
   ]
  },
  {
   "cell_type": "code",
   "execution_count": 5,
   "id": "fc0fd177",
   "metadata": {},
   "outputs": [],
   "source": [
    "Late_night_Data = pd.read_csv('df.csv')       #importing the late night bike dataset\n",
    "Morning_Data = pd.read_csv('df_morning.csv')   #importing the morning bike dataset"
   ]
  },
  {
   "cell_type": "code",
   "execution_count": 9,
   "id": "11b01382",
   "metadata": {},
   "outputs": [],
   "source": [
    "Noon_data = pd.read_csv('df_Afternoon.csv')   #importing Afternoon bike dataset"
   ]
  },
  {
   "cell_type": "code",
   "execution_count": 425,
   "id": "fa47bd02",
   "metadata": {},
   "outputs": [],
   "source": [
    "Evening_data = pd.read_csv('df_Evening.csv')    #importing the Evening bike dataset"
   ]
  },
  {
   "cell_type": "code",
   "execution_count": 114,
   "id": "53b4c722",
   "metadata": {},
   "outputs": [
    {
     "name": "stdout",
     "output_type": "stream",
     "text": [
      "<class 'pandas.core.frame.DataFrame'>\n",
      "RangeIndex: 110 entries, 0 to 109\n",
      "Data columns (total 12 columns):\n",
      " #   Column                 Non-Null Count  Dtype         \n",
      "---  ------                 --------------  -----         \n",
      " 0   number                 110 non-null    int64         \n",
      " 1   contract_name          110 non-null    object        \n",
      " 2   address                110 non-null    object        \n",
      " 3   position               110 non-null    object        \n",
      " 4   banking                110 non-null    bool          \n",
      " 5   bonus                  110 non-null    bool          \n",
      " 6   bike_stands            110 non-null    int64         \n",
      " 7   available_bike_stands  110 non-null    int64         \n",
      " 8   available_bikes        110 non-null    int64         \n",
      " 9   status                 110 non-null    object        \n",
      " 10  last_update            110 non-null    int64         \n",
      " 11  last_update_time       110 non-null    datetime64[ns]\n",
      "dtypes: bool(2), datetime64[ns](1), int64(5), object(4)\n",
      "memory usage: 8.9+ KB\n"
     ]
    }
   ],
   "source": [
    "Late_night_Data.info()"
   ]
  },
  {
   "cell_type": "code",
   "execution_count": 113,
   "id": "bffa81f7",
   "metadata": {},
   "outputs": [
    {
     "name": "stdout",
     "output_type": "stream",
     "text": [
      "<class 'pandas.core.frame.DataFrame'>\n",
      "RangeIndex: 110 entries, 0 to 109\n",
      "Data columns (total 12 columns):\n",
      " #   Column                 Non-Null Count  Dtype         \n",
      "---  ------                 --------------  -----         \n",
      " 0   number                 110 non-null    int64         \n",
      " 1   contract_name          110 non-null    object        \n",
      " 2   address                110 non-null    object        \n",
      " 3   position               110 non-null    object        \n",
      " 4   banking                110 non-null    bool          \n",
      " 5   bonus                  110 non-null    bool          \n",
      " 6   bike_stands            110 non-null    int64         \n",
      " 7   available_bike_stands  110 non-null    int64         \n",
      " 8   available_bikes        110 non-null    int64         \n",
      " 9   status                 110 non-null    object        \n",
      " 10  last_update            110 non-null    int64         \n",
      " 11  last_update_time       110 non-null    datetime64[ns]\n",
      "dtypes: bool(2), datetime64[ns](1), int64(5), object(4)\n",
      "memory usage: 8.9+ KB\n"
     ]
    }
   ],
   "source": [
    "Morning_Data.info()"
   ]
  },
  {
   "cell_type": "code",
   "execution_count": 112,
   "id": "ce4e4906",
   "metadata": {},
   "outputs": [
    {
     "name": "stdout",
     "output_type": "stream",
     "text": [
      "<class 'pandas.core.frame.DataFrame'>\n",
      "RangeIndex: 110 entries, 0 to 109\n",
      "Data columns (total 12 columns):\n",
      " #   Column                 Non-Null Count  Dtype         \n",
      "---  ------                 --------------  -----         \n",
      " 0   number                 110 non-null    int64         \n",
      " 1   contract_name          110 non-null    object        \n",
      " 2   address                110 non-null    object        \n",
      " 3   position               110 non-null    object        \n",
      " 4   banking                110 non-null    bool          \n",
      " 5   bonus                  110 non-null    bool          \n",
      " 6   bike_stands            110 non-null    int64         \n",
      " 7   available_bike_stands  110 non-null    int64         \n",
      " 8   available_bikes        110 non-null    int64         \n",
      " 9   status                 110 non-null    object        \n",
      " 10  last_update            110 non-null    int64         \n",
      " 11  last_update_time       110 non-null    datetime64[ns]\n",
      "dtypes: bool(2), datetime64[ns](1), int64(5), object(4)\n",
      "memory usage: 8.9+ KB\n"
     ]
    }
   ],
   "source": [
    "Noon_data.info()"
   ]
  },
  {
   "cell_type": "code",
   "execution_count": 270,
   "id": "e95d63f9",
   "metadata": {},
   "outputs": [
    {
     "name": "stdout",
     "output_type": "stream",
     "text": [
      "<class 'pandas.core.frame.DataFrame'>\n",
      "RangeIndex: 110 entries, 0 to 109\n",
      "Data columns (total 12 columns):\n",
      " #   Column                 Non-Null Count  Dtype         \n",
      "---  ------                 --------------  -----         \n",
      " 0   number                 110 non-null    int64         \n",
      " 1   contract_name          110 non-null    object        \n",
      " 2   address                110 non-null    object        \n",
      " 3   position               110 non-null    object        \n",
      " 4   banking                110 non-null    bool          \n",
      " 5   bonus                  110 non-null    bool          \n",
      " 6   bike_stands            110 non-null    int64         \n",
      " 7   available_bike_stands  110 non-null    int64         \n",
      " 8   available_bikes        110 non-null    int64         \n",
      " 9   status                 110 non-null    object        \n",
      " 10  last_update            110 non-null    int64         \n",
      " 11  last_update_time       110 non-null    datetime64[ns]\n",
      "dtypes: bool(2), datetime64[ns](1), int64(5), object(4)\n",
      "memory usage: 8.9+ KB\n"
     ]
    }
   ],
   "source": [
    "Evening_data.info()"
   ]
  },
  {
   "cell_type": "markdown",
   "id": "ef6cb89a",
   "metadata": {},
   "source": [
    " Creating an new column called last_update_time for all dataFrames which indicate the time and date each \n",
    "    bike stand was updated "
   ]
  },
  {
   "cell_type": "code",
   "execution_count": 423,
   "id": "00cd2a64",
   "metadata": {},
   "outputs": [
    {
     "data": {
      "text/html": [
       "<div>\n",
       "<style scoped>\n",
       "    .dataframe tbody tr th:only-of-type {\n",
       "        vertical-align: middle;\n",
       "    }\n",
       "\n",
       "    .dataframe tbody tr th {\n",
       "        vertical-align: top;\n",
       "    }\n",
       "\n",
       "    .dataframe thead th {\n",
       "        text-align: right;\n",
       "    }\n",
       "</style>\n",
       "<table border=\"1\" class=\"dataframe\">\n",
       "  <thead>\n",
       "    <tr style=\"text-align: right;\">\n",
       "      <th></th>\n",
       "      <th>last_update_time</th>\n",
       "    </tr>\n",
       "  </thead>\n",
       "  <tbody>\n",
       "    <tr>\n",
       "      <th>24</th>\n",
       "      <td>2022-01-19 02:16:39</td>\n",
       "    </tr>\n",
       "    <tr>\n",
       "      <th>26</th>\n",
       "      <td>2022-01-19 02:16:24</td>\n",
       "    </tr>\n",
       "    <tr>\n",
       "      <th>106</th>\n",
       "      <td>2022-01-19 02:16:24</td>\n",
       "    </tr>\n",
       "    <tr>\n",
       "      <th>34</th>\n",
       "      <td>2022-01-19 02:15:53</td>\n",
       "    </tr>\n",
       "    <tr>\n",
       "      <th>92</th>\n",
       "      <td>2022-01-19 02:15:52</td>\n",
       "    </tr>\n",
       "  </tbody>\n",
       "</table>\n",
       "</div>"
      ],
      "text/plain": [
       "       last_update_time\n",
       "24  2022-01-19 02:16:39\n",
       "26  2022-01-19 02:16:24\n",
       "106 2022-01-19 02:16:24\n",
       "34  2022-01-19 02:15:53\n",
       "92  2022-01-19 02:15:52"
      ]
     },
     "execution_count": 423,
     "metadata": {},
     "output_type": "execute_result"
    }
   ],
   "source": [
    "Late_night_Data['last_update_time'] = Late_night_Data.iloc[:,11].apply(pd.Timestamp, unit = 'ms')\n",
    "Late_night_Data.sort_values('last_update_time', ascending = False)[['last_update_time']].head()\n",
    "\n",
    "#creating the new column for first dataframe"
   ]
  },
  {
   "cell_type": "code",
   "execution_count": 420,
   "id": "1a703783",
   "metadata": {},
   "outputs": [
    {
     "data": {
      "text/html": [
       "<div>\n",
       "<style scoped>\n",
       "    .dataframe tbody tr th:only-of-type {\n",
       "        vertical-align: middle;\n",
       "    }\n",
       "\n",
       "    .dataframe tbody tr th {\n",
       "        vertical-align: top;\n",
       "    }\n",
       "\n",
       "    .dataframe thead th {\n",
       "        text-align: right;\n",
       "    }\n",
       "</style>\n",
       "<table border=\"1\" class=\"dataframe\">\n",
       "  <thead>\n",
       "    <tr style=\"text-align: right;\">\n",
       "      <th></th>\n",
       "      <th>last_update_time</th>\n",
       "    </tr>\n",
       "  </thead>\n",
       "  <tbody>\n",
       "    <tr>\n",
       "      <th>43</th>\n",
       "      <td>2022-01-19 09:47:11</td>\n",
       "    </tr>\n",
       "    <tr>\n",
       "      <th>33</th>\n",
       "      <td>2022-01-19 09:47:06</td>\n",
       "    </tr>\n",
       "    <tr>\n",
       "      <th>26</th>\n",
       "      <td>2022-01-19 09:47:03</td>\n",
       "    </tr>\n",
       "    <tr>\n",
       "      <th>84</th>\n",
       "      <td>2022-01-19 09:46:58</td>\n",
       "    </tr>\n",
       "    <tr>\n",
       "      <th>22</th>\n",
       "      <td>2022-01-19 09:46:53</td>\n",
       "    </tr>\n",
       "  </tbody>\n",
       "</table>\n",
       "</div>"
      ],
      "text/plain": [
       "      last_update_time\n",
       "43 2022-01-19 09:47:11\n",
       "33 2022-01-19 09:47:06\n",
       "26 2022-01-19 09:47:03\n",
       "84 2022-01-19 09:46:58\n",
       "22 2022-01-19 09:46:53"
      ]
     },
     "execution_count": 420,
     "metadata": {},
     "output_type": "execute_result"
    }
   ],
   "source": [
    "Morning_Data['last_update_time'] = Morning_Data.iloc[:,11].apply(pd.Timestamp, unit = 'ms')\n",
    "Morning_Data.sort_values('last_update_time', ascending = False)[['last_update_time']].head()"
   ]
  },
  {
   "cell_type": "code",
   "execution_count": 416,
   "id": "14e38b61",
   "metadata": {},
   "outputs": [
    {
     "data": {
      "text/html": [
       "<div>\n",
       "<style scoped>\n",
       "    .dataframe tbody tr th:only-of-type {\n",
       "        vertical-align: middle;\n",
       "    }\n",
       "\n",
       "    .dataframe tbody tr th {\n",
       "        vertical-align: top;\n",
       "    }\n",
       "\n",
       "    .dataframe thead th {\n",
       "        text-align: right;\n",
       "    }\n",
       "</style>\n",
       "<table border=\"1\" class=\"dataframe\">\n",
       "  <thead>\n",
       "    <tr style=\"text-align: right;\">\n",
       "      <th></th>\n",
       "      <th>last_update_time</th>\n",
       "    </tr>\n",
       "  </thead>\n",
       "  <tbody>\n",
       "    <tr>\n",
       "      <th>73</th>\n",
       "      <td>2022-01-19 12:42:13</td>\n",
       "    </tr>\n",
       "    <tr>\n",
       "      <th>19</th>\n",
       "      <td>2022-01-19 12:42:11</td>\n",
       "    </tr>\n",
       "    <tr>\n",
       "      <th>7</th>\n",
       "      <td>2022-01-19 12:42:08</td>\n",
       "    </tr>\n",
       "    <tr>\n",
       "      <th>5</th>\n",
       "      <td>2022-01-19 12:41:55</td>\n",
       "    </tr>\n",
       "    <tr>\n",
       "      <th>79</th>\n",
       "      <td>2022-01-19 12:41:52</td>\n",
       "    </tr>\n",
       "  </tbody>\n",
       "</table>\n",
       "</div>"
      ],
      "text/plain": [
       "      last_update_time\n",
       "73 2022-01-19 12:42:13\n",
       "19 2022-01-19 12:42:11\n",
       "7  2022-01-19 12:42:08\n",
       "5  2022-01-19 12:41:55\n",
       "79 2022-01-19 12:41:52"
      ]
     },
     "execution_count": 416,
     "metadata": {},
     "output_type": "execute_result"
    }
   ],
   "source": [
    "Noon_data['last_update_time'] = Noon_data.iloc[:,11].apply(pd.Timestamp, unit = 'ms')\n",
    "Noon_data.sort_values('last_update_time', ascending = False)[['last_update_time']].head()"
   ]
  },
  {
   "cell_type": "code",
   "execution_count": 418,
   "id": "da2674c6",
   "metadata": {
    "scrolled": false
   },
   "outputs": [
    {
     "data": {
      "text/html": [
       "<div>\n",
       "<style scoped>\n",
       "    .dataframe tbody tr th:only-of-type {\n",
       "        vertical-align: middle;\n",
       "    }\n",
       "\n",
       "    .dataframe tbody tr th {\n",
       "        vertical-align: top;\n",
       "    }\n",
       "\n",
       "    .dataframe thead th {\n",
       "        text-align: right;\n",
       "    }\n",
       "</style>\n",
       "<table border=\"1\" class=\"dataframe\">\n",
       "  <thead>\n",
       "    <tr style=\"text-align: right;\">\n",
       "      <th></th>\n",
       "      <th>last_update_time</th>\n",
       "    </tr>\n",
       "  </thead>\n",
       "  <tbody>\n",
       "    <tr>\n",
       "      <th>77</th>\n",
       "      <td>2022-01-19 18:12:14</td>\n",
       "    </tr>\n",
       "    <tr>\n",
       "      <th>21</th>\n",
       "      <td>2022-01-19 18:12:13</td>\n",
       "    </tr>\n",
       "    <tr>\n",
       "      <th>94</th>\n",
       "      <td>2022-01-19 18:12:13</td>\n",
       "    </tr>\n",
       "    <tr>\n",
       "      <th>45</th>\n",
       "      <td>2022-01-19 18:12:12</td>\n",
       "    </tr>\n",
       "    <tr>\n",
       "      <th>88</th>\n",
       "      <td>2022-01-19 18:12:09</td>\n",
       "    </tr>\n",
       "  </tbody>\n",
       "</table>\n",
       "</div>"
      ],
      "text/plain": [
       "      last_update_time\n",
       "77 2022-01-19 18:12:14\n",
       "21 2022-01-19 18:12:13\n",
       "94 2022-01-19 18:12:13\n",
       "45 2022-01-19 18:12:12\n",
       "88 2022-01-19 18:12:09"
      ]
     },
     "execution_count": 418,
     "metadata": {},
     "output_type": "execute_result"
    }
   ],
   "source": [
    "Evening_data['last_update_time'] = Evening_data.iloc[:,11].apply(pd.Timestamp, unit = 'ms')\n",
    "Evening_data.sort_values('last_update_time', ascending = False)[['last_update_time']].head()"
   ]
  },
  {
   "cell_type": "code",
   "execution_count": 424,
   "id": "8927ffdc",
   "metadata": {},
   "outputs": [
    {
     "data": {
      "text/html": [
       "<div>\n",
       "<style scoped>\n",
       "    .dataframe tbody tr th:only-of-type {\n",
       "        vertical-align: middle;\n",
       "    }\n",
       "\n",
       "    .dataframe tbody tr th {\n",
       "        vertical-align: top;\n",
       "    }\n",
       "\n",
       "    .dataframe thead th {\n",
       "        text-align: right;\n",
       "    }\n",
       "</style>\n",
       "<table border=\"1\" class=\"dataframe\">\n",
       "  <thead>\n",
       "    <tr style=\"text-align: right;\">\n",
       "      <th></th>\n",
       "      <th>number</th>\n",
       "      <th>contract_name</th>\n",
       "      <th>address</th>\n",
       "      <th>position</th>\n",
       "      <th>banking</th>\n",
       "      <th>bonus</th>\n",
       "      <th>bike_stands</th>\n",
       "      <th>available_bike_stands</th>\n",
       "      <th>available_bikes</th>\n",
       "      <th>status</th>\n",
       "      <th>last_update</th>\n",
       "      <th>last_update_time</th>\n",
       "    </tr>\n",
       "  </thead>\n",
       "  <tbody>\n",
       "    <tr>\n",
       "      <th>0</th>\n",
       "      <td>42</td>\n",
       "      <td>dublin</td>\n",
       "      <td>Smithfield North</td>\n",
       "      <td>{'lat': 53.349562, 'lng': -6.278198}</td>\n",
       "      <td>False</td>\n",
       "      <td>False</td>\n",
       "      <td>30</td>\n",
       "      <td>10</td>\n",
       "      <td>20</td>\n",
       "      <td>OPEN</td>\n",
       "      <td>1642585481000</td>\n",
       "      <td>2022-01-19 09:44:41</td>\n",
       "    </tr>\n",
       "  </tbody>\n",
       "</table>\n",
       "</div>"
      ],
      "text/plain": [
       "   number contract_name           address  \\\n",
       "0      42        dublin  Smithfield North   \n",
       "\n",
       "                               position  banking  bonus  bike_stands  \\\n",
       "0  {'lat': 53.349562, 'lng': -6.278198}    False  False           30   \n",
       "\n",
       "   available_bike_stands  available_bikes status    last_update  \\\n",
       "0                     10               20   OPEN  1642585481000   \n",
       "\n",
       "     last_update_time  \n",
       "0 2022-01-19 09:44:41  "
      ]
     },
     "execution_count": 424,
     "metadata": {},
     "output_type": "execute_result"
    }
   ],
   "source": [
    "Morning_Data.head(1)"
   ]
  },
  {
   "cell_type": "markdown",
   "id": "8e927290",
   "metadata": {},
   "source": [
    "Taking a look at our Dataframes above we can observe two veriables (name , address) which have same data.\n",
    "Hence we drop the name varaible"
   ]
  },
  {
   "cell_type": "code",
   "execution_count": 427,
   "id": "977770d3",
   "metadata": {},
   "outputs": [],
   "source": [
    "#Late_night_Data.drop(['name'], axis = 1, inplace = True) "
   ]
  },
  {
   "cell_type": "code",
   "execution_count": 34,
   "id": "95353cd9",
   "metadata": {},
   "outputs": [],
   "source": [
    "#Morning_Data.drop(['name'], axis = 1, inplace = True)"
   ]
  },
  {
   "cell_type": "code",
   "execution_count": 37,
   "id": "c99e24bd",
   "metadata": {},
   "outputs": [],
   "source": [
    "#Noon_data.drop(['name'], axis = 1, inplace = True)"
   ]
  },
  {
   "cell_type": "code",
   "execution_count": 38,
   "id": "1a016366",
   "metadata": {},
   "outputs": [],
   "source": [
    "#Evening_data.drop(['name'], axis = 1, inplace = True)"
   ]
  },
  {
   "cell_type": "code",
   "execution_count": 428,
   "id": "eb240746",
   "metadata": {},
   "outputs": [
    {
     "data": {
      "text/html": [
       "<div>\n",
       "<style scoped>\n",
       "    .dataframe tbody tr th:only-of-type {\n",
       "        vertical-align: middle;\n",
       "    }\n",
       "\n",
       "    .dataframe tbody tr th {\n",
       "        vertical-align: top;\n",
       "    }\n",
       "\n",
       "    .dataframe thead th {\n",
       "        text-align: right;\n",
       "    }\n",
       "</style>\n",
       "<table border=\"1\" class=\"dataframe\">\n",
       "  <thead>\n",
       "    <tr style=\"text-align: right;\">\n",
       "      <th></th>\n",
       "      <th>number</th>\n",
       "      <th>contract_name</th>\n",
       "      <th>address</th>\n",
       "      <th>position</th>\n",
       "      <th>banking</th>\n",
       "      <th>bonus</th>\n",
       "      <th>bike_stands</th>\n",
       "      <th>available_bike_stands</th>\n",
       "      <th>available_bikes</th>\n",
       "      <th>status</th>\n",
       "      <th>last_update</th>\n",
       "      <th>last_update_time</th>\n",
       "    </tr>\n",
       "  </thead>\n",
       "  <tbody>\n",
       "    <tr>\n",
       "      <th>0</th>\n",
       "      <td>42</td>\n",
       "      <td>dublin</td>\n",
       "      <td>Smithfield North</td>\n",
       "      <td>{'lat': 53.349562, 'lng': -6.278198}</td>\n",
       "      <td>False</td>\n",
       "      <td>False</td>\n",
       "      <td>30</td>\n",
       "      <td>3</td>\n",
       "      <td>27</td>\n",
       "      <td>OPEN</td>\n",
       "      <td>1642558258000</td>\n",
       "      <td>2022-01-19 02:10:58</td>\n",
       "    </tr>\n",
       "    <tr>\n",
       "      <th>1</th>\n",
       "      <td>30</td>\n",
       "      <td>dublin</td>\n",
       "      <td>Parnell Square North</td>\n",
       "      <td>{'lat': 53.353462, 'lng': -6.265305}</td>\n",
       "      <td>False</td>\n",
       "      <td>False</td>\n",
       "      <td>20</td>\n",
       "      <td>20</td>\n",
       "      <td>0</td>\n",
       "      <td>OPEN</td>\n",
       "      <td>1642558255000</td>\n",
       "      <td>2022-01-19 02:10:55</td>\n",
       "    </tr>\n",
       "    <tr>\n",
       "      <th>2</th>\n",
       "      <td>54</td>\n",
       "      <td>dublin</td>\n",
       "      <td>Clonmel Street</td>\n",
       "      <td>{'lat': 53.336021, 'lng': -6.26298}</td>\n",
       "      <td>False</td>\n",
       "      <td>False</td>\n",
       "      <td>33</td>\n",
       "      <td>21</td>\n",
       "      <td>12</td>\n",
       "      <td>OPEN</td>\n",
       "      <td>1642558259000</td>\n",
       "      <td>2022-01-19 02:10:59</td>\n",
       "    </tr>\n",
       "    <tr>\n",
       "      <th>3</th>\n",
       "      <td>108</td>\n",
       "      <td>dublin</td>\n",
       "      <td>Avondale Road</td>\n",
       "      <td>{'lat': 53.359405, 'lng': -6.276142}</td>\n",
       "      <td>False</td>\n",
       "      <td>False</td>\n",
       "      <td>35</td>\n",
       "      <td>21</td>\n",
       "      <td>14</td>\n",
       "      <td>OPEN</td>\n",
       "      <td>1642558258000</td>\n",
       "      <td>2022-01-19 02:10:58</td>\n",
       "    </tr>\n",
       "  </tbody>\n",
       "</table>\n",
       "</div>"
      ],
      "text/plain": [
       "   number contract_name               address  \\\n",
       "0      42        dublin      Smithfield North   \n",
       "1      30        dublin  Parnell Square North   \n",
       "2      54        dublin        Clonmel Street   \n",
       "3     108        dublin         Avondale Road   \n",
       "\n",
       "                               position  banking  bonus  bike_stands  \\\n",
       "0  {'lat': 53.349562, 'lng': -6.278198}    False  False           30   \n",
       "1  {'lat': 53.353462, 'lng': -6.265305}    False  False           20   \n",
       "2   {'lat': 53.336021, 'lng': -6.26298}    False  False           33   \n",
       "3  {'lat': 53.359405, 'lng': -6.276142}    False  False           35   \n",
       "\n",
       "   available_bike_stands  available_bikes status    last_update  \\\n",
       "0                      3               27   OPEN  1642558258000   \n",
       "1                     20                0   OPEN  1642558255000   \n",
       "2                     21               12   OPEN  1642558259000   \n",
       "3                     21               14   OPEN  1642558258000   \n",
       "\n",
       "     last_update_time  \n",
       "0 2022-01-19 02:10:58  \n",
       "1 2022-01-19 02:10:55  \n",
       "2 2022-01-19 02:10:59  \n",
       "3 2022-01-19 02:10:58  "
      ]
     },
     "execution_count": 428,
     "metadata": {},
     "output_type": "execute_result"
    }
   ],
   "source": [
    "Late_night_Data.head(4)"
   ]
  },
  {
   "cell_type": "markdown",
   "id": "9914d2af",
   "metadata": {},
   "source": [
    "---"
   ]
  },
  {
   "cell_type": "markdown",
   "id": "43b43a5a",
   "metadata": {},
   "source": [
    "We try to ensure there are no missing Data"
   ]
  },
  {
   "cell_type": "code",
   "execution_count": 25,
   "id": "a4ff37f4",
   "metadata": {},
   "outputs": [
    {
     "data": {
      "text/html": [
       "<div>\n",
       "<style scoped>\n",
       "    .dataframe tbody tr th:only-of-type {\n",
       "        vertical-align: middle;\n",
       "    }\n",
       "\n",
       "    .dataframe tbody tr th {\n",
       "        vertical-align: top;\n",
       "    }\n",
       "\n",
       "    .dataframe thead th {\n",
       "        text-align: right;\n",
       "    }\n",
       "</style>\n",
       "<table border=\"1\" class=\"dataframe\">\n",
       "  <thead>\n",
       "    <tr style=\"text-align: right;\">\n",
       "      <th></th>\n",
       "      <th>number</th>\n",
       "      <th>contract_name</th>\n",
       "      <th>name</th>\n",
       "      <th>address</th>\n",
       "      <th>position</th>\n",
       "      <th>banking</th>\n",
       "      <th>bonus</th>\n",
       "      <th>bike_stands</th>\n",
       "      <th>available_bike_stands</th>\n",
       "      <th>available_bikes</th>\n",
       "      <th>status</th>\n",
       "      <th>last_update</th>\n",
       "    </tr>\n",
       "  </thead>\n",
       "  <tbody>\n",
       "    <tr>\n",
       "      <th>0</th>\n",
       "      <td>False</td>\n",
       "      <td>False</td>\n",
       "      <td>False</td>\n",
       "      <td>False</td>\n",
       "      <td>False</td>\n",
       "      <td>False</td>\n",
       "      <td>False</td>\n",
       "      <td>False</td>\n",
       "      <td>False</td>\n",
       "      <td>False</td>\n",
       "      <td>False</td>\n",
       "      <td>False</td>\n",
       "    </tr>\n",
       "    <tr>\n",
       "      <th>1</th>\n",
       "      <td>False</td>\n",
       "      <td>False</td>\n",
       "      <td>False</td>\n",
       "      <td>False</td>\n",
       "      <td>False</td>\n",
       "      <td>False</td>\n",
       "      <td>False</td>\n",
       "      <td>False</td>\n",
       "      <td>False</td>\n",
       "      <td>False</td>\n",
       "      <td>False</td>\n",
       "      <td>False</td>\n",
       "    </tr>\n",
       "    <tr>\n",
       "      <th>2</th>\n",
       "      <td>False</td>\n",
       "      <td>False</td>\n",
       "      <td>False</td>\n",
       "      <td>False</td>\n",
       "      <td>False</td>\n",
       "      <td>False</td>\n",
       "      <td>False</td>\n",
       "      <td>False</td>\n",
       "      <td>False</td>\n",
       "      <td>False</td>\n",
       "      <td>False</td>\n",
       "      <td>False</td>\n",
       "    </tr>\n",
       "    <tr>\n",
       "      <th>3</th>\n",
       "      <td>False</td>\n",
       "      <td>False</td>\n",
       "      <td>False</td>\n",
       "      <td>False</td>\n",
       "      <td>False</td>\n",
       "      <td>False</td>\n",
       "      <td>False</td>\n",
       "      <td>False</td>\n",
       "      <td>False</td>\n",
       "      <td>False</td>\n",
       "      <td>False</td>\n",
       "      <td>False</td>\n",
       "    </tr>\n",
       "    <tr>\n",
       "      <th>4</th>\n",
       "      <td>False</td>\n",
       "      <td>False</td>\n",
       "      <td>False</td>\n",
       "      <td>False</td>\n",
       "      <td>False</td>\n",
       "      <td>False</td>\n",
       "      <td>False</td>\n",
       "      <td>False</td>\n",
       "      <td>False</td>\n",
       "      <td>False</td>\n",
       "      <td>False</td>\n",
       "      <td>False</td>\n",
       "    </tr>\n",
       "    <tr>\n",
       "      <th>...</th>\n",
       "      <td>...</td>\n",
       "      <td>...</td>\n",
       "      <td>...</td>\n",
       "      <td>...</td>\n",
       "      <td>...</td>\n",
       "      <td>...</td>\n",
       "      <td>...</td>\n",
       "      <td>...</td>\n",
       "      <td>...</td>\n",
       "      <td>...</td>\n",
       "      <td>...</td>\n",
       "      <td>...</td>\n",
       "    </tr>\n",
       "    <tr>\n",
       "      <th>105</th>\n",
       "      <td>False</td>\n",
       "      <td>False</td>\n",
       "      <td>False</td>\n",
       "      <td>False</td>\n",
       "      <td>False</td>\n",
       "      <td>False</td>\n",
       "      <td>False</td>\n",
       "      <td>False</td>\n",
       "      <td>False</td>\n",
       "      <td>False</td>\n",
       "      <td>False</td>\n",
       "      <td>False</td>\n",
       "    </tr>\n",
       "    <tr>\n",
       "      <th>106</th>\n",
       "      <td>False</td>\n",
       "      <td>False</td>\n",
       "      <td>False</td>\n",
       "      <td>False</td>\n",
       "      <td>False</td>\n",
       "      <td>False</td>\n",
       "      <td>False</td>\n",
       "      <td>False</td>\n",
       "      <td>False</td>\n",
       "      <td>False</td>\n",
       "      <td>False</td>\n",
       "      <td>False</td>\n",
       "    </tr>\n",
       "    <tr>\n",
       "      <th>107</th>\n",
       "      <td>False</td>\n",
       "      <td>False</td>\n",
       "      <td>False</td>\n",
       "      <td>False</td>\n",
       "      <td>False</td>\n",
       "      <td>False</td>\n",
       "      <td>False</td>\n",
       "      <td>False</td>\n",
       "      <td>False</td>\n",
       "      <td>False</td>\n",
       "      <td>False</td>\n",
       "      <td>False</td>\n",
       "    </tr>\n",
       "    <tr>\n",
       "      <th>108</th>\n",
       "      <td>False</td>\n",
       "      <td>False</td>\n",
       "      <td>False</td>\n",
       "      <td>False</td>\n",
       "      <td>False</td>\n",
       "      <td>False</td>\n",
       "      <td>False</td>\n",
       "      <td>False</td>\n",
       "      <td>False</td>\n",
       "      <td>False</td>\n",
       "      <td>False</td>\n",
       "      <td>False</td>\n",
       "    </tr>\n",
       "    <tr>\n",
       "      <th>109</th>\n",
       "      <td>False</td>\n",
       "      <td>False</td>\n",
       "      <td>False</td>\n",
       "      <td>False</td>\n",
       "      <td>False</td>\n",
       "      <td>False</td>\n",
       "      <td>False</td>\n",
       "      <td>False</td>\n",
       "      <td>False</td>\n",
       "      <td>False</td>\n",
       "      <td>False</td>\n",
       "      <td>False</td>\n",
       "    </tr>\n",
       "  </tbody>\n",
       "</table>\n",
       "<p>110 rows × 12 columns</p>\n",
       "</div>"
      ],
      "text/plain": [
       "     number  contract_name   name  address  position  banking  bonus  \\\n",
       "0     False          False  False    False     False    False  False   \n",
       "1     False          False  False    False     False    False  False   \n",
       "2     False          False  False    False     False    False  False   \n",
       "3     False          False  False    False     False    False  False   \n",
       "4     False          False  False    False     False    False  False   \n",
       "..      ...            ...    ...      ...       ...      ...    ...   \n",
       "105   False          False  False    False     False    False  False   \n",
       "106   False          False  False    False     False    False  False   \n",
       "107   False          False  False    False     False    False  False   \n",
       "108   False          False  False    False     False    False  False   \n",
       "109   False          False  False    False     False    False  False   \n",
       "\n",
       "     bike_stands  available_bike_stands  available_bikes  status  last_update  \n",
       "0          False                  False            False   False        False  \n",
       "1          False                  False            False   False        False  \n",
       "2          False                  False            False   False        False  \n",
       "3          False                  False            False   False        False  \n",
       "4          False                  False            False   False        False  \n",
       "..           ...                    ...              ...     ...          ...  \n",
       "105        False                  False            False   False        False  \n",
       "106        False                  False            False   False        False  \n",
       "107        False                  False            False   False        False  \n",
       "108        False                  False            False   False        False  \n",
       "109        False                  False            False   False        False  \n",
       "\n",
       "[110 rows x 12 columns]"
      ]
     },
     "execution_count": 25,
     "metadata": {},
     "output_type": "execute_result"
    }
   ],
   "source": [
    "Morning_Data.isnull() "
   ]
  },
  {
   "cell_type": "markdown",
   "id": "1d01146c",
   "metadata": {},
   "source": [
    "---"
   ]
  },
  {
   "cell_type": "markdown",
   "id": "c6e60951",
   "metadata": {},
   "source": [
    "Since There are no missing Data ,we proceed to our analysis\n",
    "\n",
    "Considring the first dataframe(late night bike data)\n"
   ]
  },
  {
   "cell_type": "code",
   "execution_count": 41,
   "id": "490fa55f",
   "metadata": {},
   "outputs": [
    {
     "data": {
      "text/html": [
       "<div>\n",
       "<style scoped>\n",
       "    .dataframe tbody tr th:only-of-type {\n",
       "        vertical-align: middle;\n",
       "    }\n",
       "\n",
       "    .dataframe tbody tr th {\n",
       "        vertical-align: top;\n",
       "    }\n",
       "\n",
       "    .dataframe thead th {\n",
       "        text-align: right;\n",
       "    }\n",
       "</style>\n",
       "<table border=\"1\" class=\"dataframe\">\n",
       "  <thead>\n",
       "    <tr style=\"text-align: right;\">\n",
       "      <th></th>\n",
       "      <th>number</th>\n",
       "      <th>contract_name</th>\n",
       "      <th>address</th>\n",
       "      <th>position</th>\n",
       "      <th>banking</th>\n",
       "      <th>bonus</th>\n",
       "      <th>bike_stands</th>\n",
       "      <th>available_bike_stands</th>\n",
       "      <th>available_bikes</th>\n",
       "      <th>status</th>\n",
       "      <th>last_update</th>\n",
       "      <th>last_update_time</th>\n",
       "    </tr>\n",
       "  </thead>\n",
       "  <tbody>\n",
       "    <tr>\n",
       "      <th>0</th>\n",
       "      <td>42</td>\n",
       "      <td>dublin</td>\n",
       "      <td>Smithfield North</td>\n",
       "      <td>{'lat': 53.349562, 'lng': -6.278198}</td>\n",
       "      <td>False</td>\n",
       "      <td>False</td>\n",
       "      <td>30</td>\n",
       "      <td>3</td>\n",
       "      <td>27</td>\n",
       "      <td>OPEN</td>\n",
       "      <td>1642558258000</td>\n",
       "      <td>2022-01-19 02:10:58</td>\n",
       "    </tr>\n",
       "    <tr>\n",
       "      <th>1</th>\n",
       "      <td>30</td>\n",
       "      <td>dublin</td>\n",
       "      <td>Parnell Square North</td>\n",
       "      <td>{'lat': 53.353462, 'lng': -6.265305}</td>\n",
       "      <td>False</td>\n",
       "      <td>False</td>\n",
       "      <td>20</td>\n",
       "      <td>20</td>\n",
       "      <td>0</td>\n",
       "      <td>OPEN</td>\n",
       "      <td>1642558255000</td>\n",
       "      <td>2022-01-19 02:10:55</td>\n",
       "    </tr>\n",
       "    <tr>\n",
       "      <th>2</th>\n",
       "      <td>54</td>\n",
       "      <td>dublin</td>\n",
       "      <td>Clonmel Street</td>\n",
       "      <td>{'lat': 53.336021, 'lng': -6.26298}</td>\n",
       "      <td>False</td>\n",
       "      <td>False</td>\n",
       "      <td>33</td>\n",
       "      <td>21</td>\n",
       "      <td>12</td>\n",
       "      <td>OPEN</td>\n",
       "      <td>1642558259000</td>\n",
       "      <td>2022-01-19 02:10:59</td>\n",
       "    </tr>\n",
       "    <tr>\n",
       "      <th>3</th>\n",
       "      <td>108</td>\n",
       "      <td>dublin</td>\n",
       "      <td>Avondale Road</td>\n",
       "      <td>{'lat': 53.359405, 'lng': -6.276142}</td>\n",
       "      <td>False</td>\n",
       "      <td>False</td>\n",
       "      <td>35</td>\n",
       "      <td>21</td>\n",
       "      <td>14</td>\n",
       "      <td>OPEN</td>\n",
       "      <td>1642558258000</td>\n",
       "      <td>2022-01-19 02:10:58</td>\n",
       "    </tr>\n",
       "    <tr>\n",
       "      <th>4</th>\n",
       "      <td>56</td>\n",
       "      <td>dublin</td>\n",
       "      <td>Mount Street Lower</td>\n",
       "      <td>{'lat': 53.33796, 'lng': -6.24153}</td>\n",
       "      <td>False</td>\n",
       "      <td>False</td>\n",
       "      <td>40</td>\n",
       "      <td>32</td>\n",
       "      <td>8</td>\n",
       "      <td>OPEN</td>\n",
       "      <td>1642558255000</td>\n",
       "      <td>2022-01-19 02:10:55</td>\n",
       "    </tr>\n",
       "  </tbody>\n",
       "</table>\n",
       "</div>"
      ],
      "text/plain": [
       "   number contract_name               address  \\\n",
       "0      42        dublin      Smithfield North   \n",
       "1      30        dublin  Parnell Square North   \n",
       "2      54        dublin        Clonmel Street   \n",
       "3     108        dublin         Avondale Road   \n",
       "4      56        dublin    Mount Street Lower   \n",
       "\n",
       "                               position  banking  bonus  bike_stands  \\\n",
       "0  {'lat': 53.349562, 'lng': -6.278198}    False  False           30   \n",
       "1  {'lat': 53.353462, 'lng': -6.265305}    False  False           20   \n",
       "2   {'lat': 53.336021, 'lng': -6.26298}    False  False           33   \n",
       "3  {'lat': 53.359405, 'lng': -6.276142}    False  False           35   \n",
       "4    {'lat': 53.33796, 'lng': -6.24153}    False  False           40   \n",
       "\n",
       "   available_bike_stands  available_bikes status    last_update  \\\n",
       "0                      3               27   OPEN  1642558258000   \n",
       "1                     20                0   OPEN  1642558255000   \n",
       "2                     21               12   OPEN  1642558259000   \n",
       "3                     21               14   OPEN  1642558258000   \n",
       "4                     32                8   OPEN  1642558255000   \n",
       "\n",
       "     last_update_time  \n",
       "0 2022-01-19 02:10:58  \n",
       "1 2022-01-19 02:10:55  \n",
       "2 2022-01-19 02:10:59  \n",
       "3 2022-01-19 02:10:58  \n",
       "4 2022-01-19 02:10:55  "
      ]
     },
     "execution_count": 41,
     "metadata": {},
     "output_type": "execute_result"
    }
   ],
   "source": [
    "Late_night_Data.head()"
   ]
  },
  {
   "cell_type": "markdown",
   "id": "2655f59d",
   "metadata": {},
   "source": [
    "1. At time of the day are bikes more utilised ? \n",
    "  We can get the answer to this question by considring the Attribute 'available_bike_stands' and\n",
    "  By Finding the Mean and standard deviation. the key indicator is the mean."
   ]
  },
  {
   "cell_type": "code",
   "execution_count": 273,
   "id": "56d8978f",
   "metadata": {},
   "outputs": [
    {
     "data": {
      "text/plain": [
       "std     10.743332\n",
       "mean    18.890909\n",
       "Name: available_bike_stands, dtype: float64"
      ]
     },
     "execution_count": 273,
     "metadata": {},
     "output_type": "execute_result"
    }
   ],
   "source": [
    "\n",
    "# calculating mean and standard deviation of total available bikes\n",
    "\n",
    "Late_agg = Late_night_Data['available_bike_stands'].agg([\"std\", \"mean\"])\n",
    "Late_agg"
   ]
  },
  {
   "cell_type": "code",
   "execution_count": 276,
   "id": "6916f67a",
   "metadata": {},
   "outputs": [
    {
     "data": {
      "text/plain": [
       "std      8.924206\n",
       "mean    19.572727\n",
       "Name: available_bike_stands, dtype: float64"
      ]
     },
     "execution_count": 276,
     "metadata": {},
     "output_type": "execute_result"
    }
   ],
   "source": [
    "Mrn_agg = Morning_Data['available_bike_stands'].agg([\"std\", \"mean\"])\n",
    "Mrn_agg"
   ]
  },
  {
   "cell_type": "code",
   "execution_count": 277,
   "id": "e3814dd6",
   "metadata": {},
   "outputs": [
    {
     "data": {
      "text/plain": [
       "std      8.569127\n",
       "mean    19.681818\n",
       "Name: available_bike_stands, dtype: float64"
      ]
     },
     "execution_count": 277,
     "metadata": {},
     "output_type": "execute_result"
    }
   ],
   "source": [
    "Noon_agg = Noon_data['available_bike_stands'].agg([\"std\", \"mean\"])\n",
    "Noon_agg"
   ]
  },
  {
   "cell_type": "code",
   "execution_count": 278,
   "id": "a01bccfb",
   "metadata": {},
   "outputs": [
    {
     "data": {
      "text/plain": [
       "std      9.003757\n",
       "mean    19.845455\n",
       "Name: available_bike_stands, dtype: float64"
      ]
     },
     "execution_count": 278,
     "metadata": {},
     "output_type": "execute_result"
    }
   ],
   "source": [
    "Evening_agg = Evening_data['available_bike_stands'].agg([\"std\", \"mean\"])\n",
    "Evening_agg"
   ]
  },
  {
   "cell_type": "markdown",
   "id": "61483546",
   "metadata": {},
   "source": [
    "From the values above The Evening DataFrame has the higest mean value of 19.8454 and standard deviation of 9.0037\n",
    "This clearly reveal more bikes was hired during that hour because it has the highest average value"
   ]
  },
  {
   "cell_type": "code",
   "execution_count": 303,
   "id": "05b11409",
   "metadata": {},
   "outputs": [],
   "source": [
    "import matplotlib.pyplot as plt"
   ]
  },
  {
   "cell_type": "code",
   "execution_count": 411,
   "id": "95bf242f",
   "metadata": {},
   "outputs": [],
   "source": [
    "\n",
    "values = pd.DataFrame([Late_agg ,Mrn_agg,Noon_agg,Evening_agg]).reset_index()\n",
    "\n",
    "#converting the mean and standard deviation values to aggregate to a single dataframe"
   ]
  },
  {
   "cell_type": "code",
   "execution_count": 327,
   "id": "e756f65a",
   "metadata": {},
   "outputs": [
    {
     "data": {
      "text/html": [
       "<div>\n",
       "<style scoped>\n",
       "    .dataframe tbody tr th:only-of-type {\n",
       "        vertical-align: middle;\n",
       "    }\n",
       "\n",
       "    .dataframe tbody tr th {\n",
       "        vertical-align: top;\n",
       "    }\n",
       "\n",
       "    .dataframe thead th {\n",
       "        text-align: right;\n",
       "    }\n",
       "</style>\n",
       "<table border=\"1\" class=\"dataframe\">\n",
       "  <thead>\n",
       "    <tr style=\"text-align: right;\">\n",
       "      <th></th>\n",
       "      <th>index</th>\n",
       "      <th>std</th>\n",
       "      <th>mean</th>\n",
       "    </tr>\n",
       "  </thead>\n",
       "  <tbody>\n",
       "    <tr>\n",
       "      <th>0</th>\n",
       "      <td>available_bike_stands</td>\n",
       "      <td>10.743332</td>\n",
       "      <td>18.890909</td>\n",
       "    </tr>\n",
       "    <tr>\n",
       "      <th>1</th>\n",
       "      <td>available_bike_stands</td>\n",
       "      <td>8.924206</td>\n",
       "      <td>19.572727</td>\n",
       "    </tr>\n",
       "    <tr>\n",
       "      <th>2</th>\n",
       "      <td>available_bike_stands</td>\n",
       "      <td>8.569127</td>\n",
       "      <td>19.681818</td>\n",
       "    </tr>\n",
       "    <tr>\n",
       "      <th>3</th>\n",
       "      <td>available_bike_stands</td>\n",
       "      <td>9.003757</td>\n",
       "      <td>19.845455</td>\n",
       "    </tr>\n",
       "  </tbody>\n",
       "</table>\n",
       "</div>"
      ],
      "text/plain": [
       "                   index        std       mean\n",
       "0  available_bike_stands  10.743332  18.890909\n",
       "1  available_bike_stands   8.924206  19.572727\n",
       "2  available_bike_stands   8.569127  19.681818\n",
       "3  available_bike_stands   9.003757  19.845455"
      ]
     },
     "execution_count": 327,
     "metadata": {},
     "output_type": "execute_result"
    }
   ],
   "source": [
    "value"
   ]
  },
  {
   "cell_type": "code",
   "execution_count": 412,
   "id": "f75296fd",
   "metadata": {},
   "outputs": [],
   "source": [
    "Time_frame = pd.Series(['Late_night','Mornng','Noon','Evening'], name= 'Time') \n",
    "\n",
    "#converting the series to a single dataframe"
   ]
  },
  {
   "cell_type": "code",
   "execution_count": 388,
   "id": "33cfb153",
   "metadata": {},
   "outputs": [],
   "source": [
    "\n",
    "Time_frame = Time_frame.to_frame()"
   ]
  },
  {
   "cell_type": "code",
   "execution_count": 392,
   "id": "3f47df65",
   "metadata": {},
   "outputs": [],
   "source": [
    "All_aggregate = pd.concat([values,Time_frame], axis = 1)"
   ]
  },
  {
   "cell_type": "code",
   "execution_count": 401,
   "id": "ee30cc93",
   "metadata": {},
   "outputs": [],
   "source": [
    "All_aggregate = All_aggregate.set_index('Time').drop(['index'], axis = 1 )"
   ]
  },
  {
   "cell_type": "code",
   "execution_count": 402,
   "id": "54508c14",
   "metadata": {},
   "outputs": [
    {
     "data": {
      "text/html": [
       "<div>\n",
       "<style scoped>\n",
       "    .dataframe tbody tr th:only-of-type {\n",
       "        vertical-align: middle;\n",
       "    }\n",
       "\n",
       "    .dataframe tbody tr th {\n",
       "        vertical-align: top;\n",
       "    }\n",
       "\n",
       "    .dataframe thead th {\n",
       "        text-align: right;\n",
       "    }\n",
       "</style>\n",
       "<table border=\"1\" class=\"dataframe\">\n",
       "  <thead>\n",
       "    <tr style=\"text-align: right;\">\n",
       "      <th></th>\n",
       "      <th>std</th>\n",
       "      <th>mean</th>\n",
       "    </tr>\n",
       "    <tr>\n",
       "      <th>Time</th>\n",
       "      <th></th>\n",
       "      <th></th>\n",
       "    </tr>\n",
       "  </thead>\n",
       "  <tbody>\n",
       "    <tr>\n",
       "      <th>Late_night</th>\n",
       "      <td>10.743332</td>\n",
       "      <td>18.890909</td>\n",
       "    </tr>\n",
       "    <tr>\n",
       "      <th>Mornng</th>\n",
       "      <td>8.924206</td>\n",
       "      <td>19.572727</td>\n",
       "    </tr>\n",
       "    <tr>\n",
       "      <th>Noon</th>\n",
       "      <td>8.569127</td>\n",
       "      <td>19.681818</td>\n",
       "    </tr>\n",
       "    <tr>\n",
       "      <th>Evening</th>\n",
       "      <td>9.003757</td>\n",
       "      <td>19.845455</td>\n",
       "    </tr>\n",
       "  </tbody>\n",
       "</table>\n",
       "</div>"
      ],
      "text/plain": [
       "                  std       mean\n",
       "Time                            \n",
       "Late_night  10.743332  18.890909\n",
       "Mornng       8.924206  19.572727\n",
       "Noon         8.569127  19.681818\n",
       "Evening      9.003757  19.845455"
      ]
     },
     "execution_count": 402,
     "metadata": {},
     "output_type": "execute_result"
    }
   ],
   "source": [
    "All_aggregate"
   ]
  },
  {
   "cell_type": "code",
   "execution_count": 413,
   "id": "5ec98004",
   "metadata": {
    "scrolled": false
   },
   "outputs": [
    {
     "data": {
      "text/plain": [
       "Text(0.5, 0, 'Time of the day')"
      ]
     },
     "execution_count": 413,
     "metadata": {},
     "output_type": "execute_result"
    },
    {
     "data": {
      "image/png": "[encoded data removed]",
      "text/plain": [
       "<Figure size 1008x504 with 1 Axes>"
      ]
     },
     "metadata": {
      "needs_background": "light"
     },
     "output_type": "display_data"
    }
   ],
   "source": [
    "#Plotting a Bar with our dataframe\n",
    "\n",
    "All_aggregate.plot(kind=\"bar\",figsize=(14, 7))    \n",
    "\n",
    "plt.title(\"Plot showing how the bikes are utilized within 24hrs\")\n",
    "\n",
    "plt.xlabel(\"Time of the day\")\n"
   ]
  },
  {
   "cell_type": "code",
   "execution_count": null,
   "id": "5393422a",
   "metadata": {},
   "outputs": [],
   "source": []
  },
  {
   "cell_type": "code",
   "execution_count": null,
   "id": "3aee319b",
   "metadata": {},
   "outputs": [],
   "source": []
  },
  {
   "cell_type": "markdown",
   "id": "55e15a6e",
   "metadata": {},
   "source": [
    "---"
   ]
  },
  {
   "cell_type": "markdown",
   "id": "65345b6a",
   "metadata": {},
   "source": [
    "2. The most dominant bike address all through the day.\n",
    "   We will ba making use of our Available bike here as our key indicator. The idea is to get top five address which have \n",
    "   higer number avaiable bikes in each dataframe"
   ]
  },
  {
   "cell_type": "code",
   "execution_count": 187,
   "id": "29acc882",
   "metadata": {
    "scrolled": false
   },
   "outputs": [],
   "source": [
    "#Considering the late night dataframe first\n",
    "\n",
    "Above_average_late = Late_night_Data[Late_night_Data['available_bikes'] > Late_night_Data['available_bikes'].agg('mean')]\n",
    "\n",
    "#here we simly filter out the dataframe which the avaiable bikes is greater than the average avaiable bike."
   ]
  },
  {
   "cell_type": "code",
   "execution_count": 198,
   "id": "20131ad9",
   "metadata": {},
   "outputs": [],
   "source": [
    "Above_average_late1 = Above_average_late.loc[:, ['number','address', 'available_bikes']]\\\n",
    ".sort_values(['available_bikes'], ascending = False)\n",
    "\n",
    "#Selecting the column needed and arranging it in Descending order"
   ]
  },
  {
   "cell_type": "code",
   "execution_count": 199,
   "id": "46f739f2",
   "metadata": {},
   "outputs": [
    {
     "data": {
      "text/html": [
       "<div>\n",
       "<style scoped>\n",
       "    .dataframe tbody tr th:only-of-type {\n",
       "        vertical-align: middle;\n",
       "    }\n",
       "\n",
       "    .dataframe tbody tr th {\n",
       "        vertical-align: top;\n",
       "    }\n",
       "\n",
       "    .dataframe thead th {\n",
       "        text-align: right;\n",
       "    }\n",
       "</style>\n",
       "<table border=\"1\" class=\"dataframe\">\n",
       "  <thead>\n",
       "    <tr style=\"text-align: right;\">\n",
       "      <th></th>\n",
       "      <th>number</th>\n",
       "      <th>address</th>\n",
       "      <th>available_bikes</th>\n",
       "    </tr>\n",
       "  </thead>\n",
       "  <tbody>\n",
       "    <tr>\n",
       "      <th>36</th>\n",
       "      <td>5</td>\n",
       "      <td>Charlemont Street</td>\n",
       "      <td>38</td>\n",
       "    </tr>\n",
       "    <tr>\n",
       "      <th>69</th>\n",
       "      <td>95</td>\n",
       "      <td>Royal Hospital</td>\n",
       "      <td>36</td>\n",
       "    </tr>\n",
       "    <tr>\n",
       "      <th>82</th>\n",
       "      <td>111</td>\n",
       "      <td>Mountjoy Square East</td>\n",
       "      <td>34</td>\n",
       "    </tr>\n",
       "    <tr>\n",
       "      <th>42</th>\n",
       "      <td>49</td>\n",
       "      <td>Guild Street</td>\n",
       "      <td>32</td>\n",
       "    </tr>\n",
       "    <tr>\n",
       "      <th>106</th>\n",
       "      <td>83</td>\n",
       "      <td>Emmet Road</td>\n",
       "      <td>31</td>\n",
       "    </tr>\n",
       "  </tbody>\n",
       "</table>\n",
       "</div>"
      ],
      "text/plain": [
       "     number               address  available_bikes\n",
       "36        5     Charlemont Street               38\n",
       "69       95        Royal Hospital               36\n",
       "82      111  Mountjoy Square East               34\n",
       "42       49          Guild Street               32\n",
       "106      83            Emmet Road               31"
      ]
     },
     "execution_count": 199,
     "metadata": {},
     "output_type": "execute_result"
    }
   ],
   "source": [
    "Above_average_late1.head()"
   ]
  },
  {
   "cell_type": "markdown",
   "id": "015d208e",
   "metadata": {},
   "source": [
    "the Above Dataframe shows the top five address at late night hour with more avaiable bikes"
   ]
  },
  {
   "cell_type": "code",
   "execution_count": 200,
   "id": "ba21f40c",
   "metadata": {},
   "outputs": [],
   "source": [
    "Above_average_Morning = Morning_Data[Morning_Data['available_bikes'] > Morning_Data['available_bikes'].agg('mean')]\n",
    "\n",
    "Top5_address_morning = Above_average_Morning.loc[:, ['number','address', 'available_bikes']]\\\n",
    ".sort_values(['available_bikes'], ascending = False)\n",
    "\n"
   ]
  },
  {
   "cell_type": "code",
   "execution_count": 201,
   "id": "a3a65670",
   "metadata": {},
   "outputs": [
    {
     "data": {
      "text/html": [
       "<div>\n",
       "<style scoped>\n",
       "    .dataframe tbody tr th:only-of-type {\n",
       "        vertical-align: middle;\n",
       "    }\n",
       "\n",
       "    .dataframe tbody tr th {\n",
       "        vertical-align: top;\n",
       "    }\n",
       "\n",
       "    .dataframe thead th {\n",
       "        text-align: right;\n",
       "    }\n",
       "</style>\n",
       "<table border=\"1\" class=\"dataframe\">\n",
       "  <thead>\n",
       "    <tr style=\"text-align: right;\">\n",
       "      <th></th>\n",
       "      <th>number</th>\n",
       "      <th>address</th>\n",
       "      <th>available_bikes</th>\n",
       "    </tr>\n",
       "  </thead>\n",
       "  <tbody>\n",
       "    <tr>\n",
       "      <th>69</th>\n",
       "      <td>95</td>\n",
       "      <td>Royal Hospital</td>\n",
       "      <td>34</td>\n",
       "    </tr>\n",
       "    <tr>\n",
       "      <th>25</th>\n",
       "      <td>114</td>\n",
       "      <td>Wilton Terrace (Park)</td>\n",
       "      <td>33</td>\n",
       "    </tr>\n",
       "    <tr>\n",
       "      <th>64</th>\n",
       "      <td>69</td>\n",
       "      <td>Grand Canal Dock</td>\n",
       "      <td>28</td>\n",
       "    </tr>\n",
       "    <tr>\n",
       "      <th>107</th>\n",
       "      <td>92</td>\n",
       "      <td>Heuston Bridge (North)</td>\n",
       "      <td>27</td>\n",
       "    </tr>\n",
       "    <tr>\n",
       "      <th>47</th>\n",
       "      <td>38</td>\n",
       "      <td>Talbot Street</td>\n",
       "      <td>26</td>\n",
       "    </tr>\n",
       "  </tbody>\n",
       "</table>\n",
       "</div>"
      ],
      "text/plain": [
       "     number                 address  available_bikes\n",
       "69       95          Royal Hospital               34\n",
       "25      114   Wilton Terrace (Park)               33\n",
       "64       69        Grand Canal Dock               28\n",
       "107      92  Heuston Bridge (North)               27\n",
       "47       38           Talbot Street               26"
      ]
     },
     "execution_count": 201,
     "metadata": {},
     "output_type": "execute_result"
    }
   ],
   "source": [
    "Top5_address_morning.head()"
   ]
  },
  {
   "cell_type": "markdown",
   "id": "62267fc5",
   "metadata": {},
   "source": [
    "he Above Dataframe shows the top five address in morning time hour with more avaiable bikes"
   ]
  },
  {
   "cell_type": "code",
   "execution_count": 203,
   "id": "2054310e",
   "metadata": {},
   "outputs": [],
   "source": [
    "Above_average_Noon = Noon_data[Noon_data['available_bikes'] > Noon_data['available_bikes'].agg('mean')]\n",
    "\n",
    "Top5_address_noon = Above_average_Noon.loc[:, ['number','address', 'available_bikes']]\\\n",
    ".sort_values(['available_bikes'], ascending = False)\n"
   ]
  },
  {
   "cell_type": "code",
   "execution_count": 205,
   "id": "db000dc5",
   "metadata": {},
   "outputs": [
    {
     "data": {
      "text/html": [
       "<div>\n",
       "<style scoped>\n",
       "    .dataframe tbody tr th:only-of-type {\n",
       "        vertical-align: middle;\n",
       "    }\n",
       "\n",
       "    .dataframe tbody tr th {\n",
       "        vertical-align: top;\n",
       "    }\n",
       "\n",
       "    .dataframe thead th {\n",
       "        text-align: right;\n",
       "    }\n",
       "</style>\n",
       "<table border=\"1\" class=\"dataframe\">\n",
       "  <thead>\n",
       "    <tr style=\"text-align: right;\">\n",
       "      <th></th>\n",
       "      <th>number</th>\n",
       "      <th>address</th>\n",
       "      <th>available_bikes</th>\n",
       "    </tr>\n",
       "  </thead>\n",
       "  <tbody>\n",
       "    <tr>\n",
       "      <th>64</th>\n",
       "      <td>69</td>\n",
       "      <td>Grand Canal Dock</td>\n",
       "      <td>27</td>\n",
       "    </tr>\n",
       "    <tr>\n",
       "      <th>47</th>\n",
       "      <td>38</td>\n",
       "      <td>Talbot Street</td>\n",
       "      <td>26</td>\n",
       "    </tr>\n",
       "    <tr>\n",
       "      <th>43</th>\n",
       "      <td>19</td>\n",
       "      <td>Herbert Place</td>\n",
       "      <td>26</td>\n",
       "    </tr>\n",
       "    <tr>\n",
       "      <th>98</th>\n",
       "      <td>80</td>\n",
       "      <td>St James Hospital (Luas)</td>\n",
       "      <td>25</td>\n",
       "    </tr>\n",
       "    <tr>\n",
       "      <th>25</th>\n",
       "      <td>114</td>\n",
       "      <td>Wilton Terrace (Park)</td>\n",
       "      <td>25</td>\n",
       "    </tr>\n",
       "  </tbody>\n",
       "</table>\n",
       "</div>"
      ],
      "text/plain": [
       "    number                   address  available_bikes\n",
       "64      69          Grand Canal Dock               27\n",
       "47      38             Talbot Street               26\n",
       "43      19             Herbert Place               26\n",
       "98      80  St James Hospital (Luas)               25\n",
       "25     114     Wilton Terrace (Park)               25"
      ]
     },
     "execution_count": 205,
     "metadata": {},
     "output_type": "execute_result"
    }
   ],
   "source": [
    "Top5_address_noon.head()"
   ]
  },
  {
   "cell_type": "markdown",
   "id": "609a6153",
   "metadata": {},
   "source": [
    "he Above Dataframe shows the top five address in Afternoon time hour with more avaiable bikes"
   ]
  },
  {
   "cell_type": "code",
   "execution_count": 370,
   "id": "50d1a7b2",
   "metadata": {},
   "outputs": [],
   "source": [
    "Above_average_Evening = Evening_data[Evening_data['available_bikes'] > Evening_data['available_bikes'].agg('mean')]\n",
    "\n",
    "Top5_address_Evening = Above_average_Evening.loc[:, ['number','address', 'available_bikes']]\\\n",
    ".sort_values(['available_bikes'], ascending = False)"
   ]
  },
  {
   "cell_type": "code",
   "execution_count": 208,
   "id": "c301d9f9",
   "metadata": {},
   "outputs": [
    {
     "data": {
      "text/html": [
       "<div>\n",
       "<style scoped>\n",
       "    .dataframe tbody tr th:only-of-type {\n",
       "        vertical-align: middle;\n",
       "    }\n",
       "\n",
       "    .dataframe tbody tr th {\n",
       "        vertical-align: top;\n",
       "    }\n",
       "\n",
       "    .dataframe thead th {\n",
       "        text-align: right;\n",
       "    }\n",
       "</style>\n",
       "<table border=\"1\" class=\"dataframe\">\n",
       "  <thead>\n",
       "    <tr style=\"text-align: right;\">\n",
       "      <th></th>\n",
       "      <th>number</th>\n",
       "      <th>address</th>\n",
       "      <th>available_bikes</th>\n",
       "    </tr>\n",
       "  </thead>\n",
       "  <tbody>\n",
       "    <tr>\n",
       "      <th>47</th>\n",
       "      <td>38</td>\n",
       "      <td>Talbot Street</td>\n",
       "      <td>31</td>\n",
       "    </tr>\n",
       "    <tr>\n",
       "      <th>11</th>\n",
       "      <td>43</td>\n",
       "      <td>Portobello Road</td>\n",
       "      <td>29</td>\n",
       "    </tr>\n",
       "    <tr>\n",
       "      <th>42</th>\n",
       "      <td>49</td>\n",
       "      <td>Guild Street</td>\n",
       "      <td>28</td>\n",
       "    </tr>\n",
       "    <tr>\n",
       "      <th>78</th>\n",
       "      <td>34</td>\n",
       "      <td>Portobello Harbour</td>\n",
       "      <td>28</td>\n",
       "    </tr>\n",
       "    <tr>\n",
       "      <th>98</th>\n",
       "      <td>80</td>\n",
       "      <td>St James Hospital (Luas)</td>\n",
       "      <td>25</td>\n",
       "    </tr>\n",
       "  </tbody>\n",
       "</table>\n",
       "</div>"
      ],
      "text/plain": [
       "    number                   address  available_bikes\n",
       "47      38             Talbot Street               31\n",
       "11      43           Portobello Road               29\n",
       "42      49              Guild Street               28\n",
       "78      34        Portobello Harbour               28\n",
       "98      80  St James Hospital (Luas)               25"
      ]
     },
     "execution_count": 208,
     "metadata": {},
     "output_type": "execute_result"
    }
   ],
   "source": [
    "Top5_address_Evening.head()"
   ]
  },
  {
   "cell_type": "markdown",
   "id": "025d9fe6",
   "metadata": {},
   "source": [
    "he Above Dataframe shows the top five address in morning time hour with more avaiable bikes"
   ]
  },
  {
   "cell_type": "markdown",
   "id": "adb2987e",
   "metadata": {},
   "source": [
    "Comparing all four DAtaframes Talbot Street\taddress have a signifcant occurence \n"
   ]
  },
  {
   "cell_type": "markdown",
   "id": "90f22584",
   "metadata": {},
   "source": [
    "---"
   ]
  },
  {
   "cell_type": "markdown",
   "id": "01a04400",
   "metadata": {},
   "source": [
    "3. The most  active and least active bike station"
   ]
  },
  {
   "cell_type": "code",
   "execution_count": 429,
   "id": "e6057682",
   "metadata": {},
   "outputs": [],
   "source": [
    "#All four dataframes need to be join together here as one single table"
   ]
  },
  {
   "cell_type": "code",
   "execution_count": 430,
   "id": "b208b690",
   "metadata": {},
   "outputs": [],
   "source": [
    "Df = pd.concat([Late_night_Data, Morning_Data])  \n",
    "Df1 = pd.concat([Noon_data, Evening_data])"
   ]
  },
  {
   "cell_type": "code",
   "execution_count": 224,
   "id": "67cf8306",
   "metadata": {},
   "outputs": [
    {
     "data": {
      "text/html": [
       "<div>\n",
       "<style scoped>\n",
       "    .dataframe tbody tr th:only-of-type {\n",
       "        vertical-align: middle;\n",
       "    }\n",
       "\n",
       "    .dataframe tbody tr th {\n",
       "        vertical-align: top;\n",
       "    }\n",
       "\n",
       "    .dataframe thead th {\n",
       "        text-align: right;\n",
       "    }\n",
       "</style>\n",
       "<table border=\"1\" class=\"dataframe\">\n",
       "  <thead>\n",
       "    <tr style=\"text-align: right;\">\n",
       "      <th></th>\n",
       "      <th>number</th>\n",
       "      <th>contract_name</th>\n",
       "      <th>address</th>\n",
       "      <th>position</th>\n",
       "      <th>banking</th>\n",
       "      <th>bonus</th>\n",
       "      <th>bike_stands</th>\n",
       "      <th>available_bike_stands</th>\n",
       "      <th>available_bikes</th>\n",
       "      <th>status</th>\n",
       "      <th>last_update</th>\n",
       "      <th>last_update_time</th>\n",
       "    </tr>\n",
       "  </thead>\n",
       "  <tbody>\n",
       "    <tr>\n",
       "      <th>0</th>\n",
       "      <td>42</td>\n",
       "      <td>dublin</td>\n",
       "      <td>Smithfield North</td>\n",
       "      <td>{'lat': 53.349562, 'lng': -6.278198}</td>\n",
       "      <td>False</td>\n",
       "      <td>False</td>\n",
       "      <td>30</td>\n",
       "      <td>3</td>\n",
       "      <td>27</td>\n",
       "      <td>OPEN</td>\n",
       "      <td>1642558258000</td>\n",
       "      <td>2022-01-19 02:10:58</td>\n",
       "    </tr>\n",
       "    <tr>\n",
       "      <th>1</th>\n",
       "      <td>30</td>\n",
       "      <td>dublin</td>\n",
       "      <td>Parnell Square North</td>\n",
       "      <td>{'lat': 53.353462, 'lng': -6.265305}</td>\n",
       "      <td>False</td>\n",
       "      <td>False</td>\n",
       "      <td>20</td>\n",
       "      <td>20</td>\n",
       "      <td>0</td>\n",
       "      <td>OPEN</td>\n",
       "      <td>1642558255000</td>\n",
       "      <td>2022-01-19 02:10:55</td>\n",
       "    </tr>\n",
       "    <tr>\n",
       "      <th>2</th>\n",
       "      <td>54</td>\n",
       "      <td>dublin</td>\n",
       "      <td>Clonmel Street</td>\n",
       "      <td>{'lat': 53.336021, 'lng': -6.26298}</td>\n",
       "      <td>False</td>\n",
       "      <td>False</td>\n",
       "      <td>33</td>\n",
       "      <td>21</td>\n",
       "      <td>12</td>\n",
       "      <td>OPEN</td>\n",
       "      <td>1642558259000</td>\n",
       "      <td>2022-01-19 02:10:59</td>\n",
       "    </tr>\n",
       "    <tr>\n",
       "      <th>3</th>\n",
       "      <td>108</td>\n",
       "      <td>dublin</td>\n",
       "      <td>Avondale Road</td>\n",
       "      <td>{'lat': 53.359405, 'lng': -6.276142}</td>\n",
       "      <td>False</td>\n",
       "      <td>False</td>\n",
       "      <td>35</td>\n",
       "      <td>21</td>\n",
       "      <td>14</td>\n",
       "      <td>OPEN</td>\n",
       "      <td>1642558258000</td>\n",
       "      <td>2022-01-19 02:10:58</td>\n",
       "    </tr>\n",
       "    <tr>\n",
       "      <th>4</th>\n",
       "      <td>56</td>\n",
       "      <td>dublin</td>\n",
       "      <td>Mount Street Lower</td>\n",
       "      <td>{'lat': 53.33796, 'lng': -6.24153}</td>\n",
       "      <td>False</td>\n",
       "      <td>False</td>\n",
       "      <td>40</td>\n",
       "      <td>32</td>\n",
       "      <td>8</td>\n",
       "      <td>OPEN</td>\n",
       "      <td>1642558255000</td>\n",
       "      <td>2022-01-19 02:10:55</td>\n",
       "    </tr>\n",
       "  </tbody>\n",
       "</table>\n",
       "</div>"
      ],
      "text/plain": [
       "   number contract_name               address  \\\n",
       "0      42        dublin      Smithfield North   \n",
       "1      30        dublin  Parnell Square North   \n",
       "2      54        dublin        Clonmel Street   \n",
       "3     108        dublin         Avondale Road   \n",
       "4      56        dublin    Mount Street Lower   \n",
       "\n",
       "                               position  banking  bonus  bike_stands  \\\n",
       "0  {'lat': 53.349562, 'lng': -6.278198}    False  False           30   \n",
       "1  {'lat': 53.353462, 'lng': -6.265305}    False  False           20   \n",
       "2   {'lat': 53.336021, 'lng': -6.26298}    False  False           33   \n",
       "3  {'lat': 53.359405, 'lng': -6.276142}    False  False           35   \n",
       "4    {'lat': 53.33796, 'lng': -6.24153}    False  False           40   \n",
       "\n",
       "   available_bike_stands  available_bikes status    last_update  \\\n",
       "0                      3               27   OPEN  1642558258000   \n",
       "1                     20                0   OPEN  1642558255000   \n",
       "2                     21               12   OPEN  1642558259000   \n",
       "3                     21               14   OPEN  1642558258000   \n",
       "4                     32                8   OPEN  1642558255000   \n",
       "\n",
       "     last_update_time  \n",
       "0 2022-01-19 02:10:58  \n",
       "1 2022-01-19 02:10:55  \n",
       "2 2022-01-19 02:10:59  \n",
       "3 2022-01-19 02:10:58  \n",
       "4 2022-01-19 02:10:55  "
      ]
     },
     "execution_count": 224,
     "metadata": {},
     "output_type": "execute_result"
    }
   ],
   "source": [
    "All_Data = pd.concat([Df,Df1])\n",
    "All_Data.head()"
   ]
  },
  {
   "cell_type": "code",
   "execution_count": 351,
   "id": "80a23ecb",
   "metadata": {},
   "outputs": [],
   "source": [
    " All_Data.rename({'number':'bike_station_ID'}, axis = 1 ,inplace = True)"
   ]
  },
  {
   "cell_type": "code",
   "execution_count": 352,
   "id": "00f34fbd",
   "metadata": {},
   "outputs": [],
   "source": [
    "Bike_stand_Df = All_Data.loc[:,['bike_station_ID','available_bike_stands']].sort_values\\\n",
    "('available_bike_stands', ascending = False)\n"
   ]
  },
  {
   "cell_type": "code",
   "execution_count": 353,
   "id": "26a9308c",
   "metadata": {},
   "outputs": [],
   "source": [
    "Bike_stand_Df1 = Bike_stand_Df.groupby([\"bike_station_ID\"])[\"available_bike_stands\"]\\\n",
    "                      .agg([(\"avaiable_bike_average\", \"mean\")])"
   ]
  },
  {
   "cell_type": "code",
   "execution_count": 354,
   "id": "783111c5",
   "metadata": {
    "scrolled": true
   },
   "outputs": [
    {
     "data": {
      "text/html": [
       "<div>\n",
       "<style scoped>\n",
       "    .dataframe tbody tr th:only-of-type {\n",
       "        vertical-align: middle;\n",
       "    }\n",
       "\n",
       "    .dataframe tbody tr th {\n",
       "        vertical-align: top;\n",
       "    }\n",
       "\n",
       "    .dataframe thead th {\n",
       "        text-align: right;\n",
       "    }\n",
       "</style>\n",
       "<table border=\"1\" class=\"dataframe\">\n",
       "  <thead>\n",
       "    <tr style=\"text-align: right;\">\n",
       "      <th></th>\n",
       "      <th>avaiable_bike_average</th>\n",
       "    </tr>\n",
       "    <tr>\n",
       "      <th>bike_station_ID</th>\n",
       "      <th></th>\n",
       "    </tr>\n",
       "  </thead>\n",
       "  <tbody>\n",
       "    <tr>\n",
       "      <th>117</th>\n",
       "      <td>39.00</td>\n",
       "    </tr>\n",
       "    <tr>\n",
       "      <th>36</th>\n",
       "      <td>37.25</td>\n",
       "    </tr>\n",
       "    <tr>\n",
       "      <th>51</th>\n",
       "      <td>35.75</td>\n",
       "    </tr>\n",
       "    <tr>\n",
       "      <th>103</th>\n",
       "      <td>35.50</td>\n",
       "    </tr>\n",
       "    <tr>\n",
       "      <th>47</th>\n",
       "      <td>35.25</td>\n",
       "    </tr>\n",
       "  </tbody>\n",
       "</table>\n",
       "</div>"
      ],
      "text/plain": [
       "                 avaiable_bike_average\n",
       "bike_station_ID                       \n",
       "117                              39.00\n",
       "36                               37.25\n",
       "51                               35.75\n",
       "103                              35.50\n",
       "47                               35.25"
      ]
     },
     "execution_count": 354,
     "metadata": {},
     "output_type": "execute_result"
    }
   ],
   "source": [
    "Bike_stand_Df1.sort_values('avaiable_bike_average' , ascending = False).head()"
   ]
  },
  {
   "cell_type": "markdown",
   "id": "be7e0755",
   "metadata": {},
   "source": [
    "Clearly from the dataframe above ,The bike station number 117 has the highest avaiable bike stand average of 39. \n"
   ]
  },
  {
   "cell_type": "code",
   "execution_count": 348,
   "id": "88a45063",
   "metadata": {
    "scrolled": true
   },
   "outputs": [
    {
     "data": {
      "text/html": [
       "<div>\n",
       "<style scoped>\n",
       "    .dataframe tbody tr th:only-of-type {\n",
       "        vertical-align: middle;\n",
       "    }\n",
       "\n",
       "    .dataframe tbody tr th {\n",
       "        vertical-align: top;\n",
       "    }\n",
       "\n",
       "    .dataframe thead th {\n",
       "        text-align: right;\n",
       "    }\n",
       "</style>\n",
       "<table border=\"1\" class=\"dataframe\">\n",
       "  <thead>\n",
       "    <tr style=\"text-align: right;\">\n",
       "      <th></th>\n",
       "      <th>avaiable_bike_average</th>\n",
       "    </tr>\n",
       "    <tr>\n",
       "      <th>number</th>\n",
       "      <th></th>\n",
       "    </tr>\n",
       "  </thead>\n",
       "  <tbody>\n",
       "    <tr>\n",
       "      <th>3</th>\n",
       "      <td>5.75</td>\n",
       "    </tr>\n",
       "    <tr>\n",
       "      <th>33</th>\n",
       "      <td>6.25</td>\n",
       "    </tr>\n",
       "    <tr>\n",
       "      <th>10</th>\n",
       "      <td>6.25</td>\n",
       "    </tr>\n",
       "    <tr>\n",
       "      <th>24</th>\n",
       "      <td>8.00</td>\n",
       "    </tr>\n",
       "    <tr>\n",
       "      <th>4</th>\n",
       "      <td>8.00</td>\n",
       "    </tr>\n",
       "  </tbody>\n",
       "</table>\n",
       "</div>"
      ],
      "text/plain": [
       "        avaiable_bike_average\n",
       "number                       \n",
       "3                        5.75\n",
       "33                       6.25\n",
       "10                       6.25\n",
       "24                       8.00\n",
       "4                        8.00"
      ]
     },
     "execution_count": 348,
     "metadata": {},
     "output_type": "execute_result"
    }
   ],
   "source": [
    "Bike_stand_Df1.sort_values('avaiable_bike_average' ).head()"
   ]
  },
  {
   "cell_type": "markdown",
   "id": "66dc1517",
   "metadata": {},
   "source": [
    "And also from dataframe above ,The bike station number 3 has the lowest avaiable bike stand average of 5.75, hence low renting there ."
   ]
  },
  {
   "cell_type": "markdown",
   "id": "03313d58",
   "metadata": {},
   "source": [
    "---"
   ]
  },
  {
   "cell_type": "markdown",
   "id": "fb8d031e",
   "metadata": {},
   "source": [
    " 4 . Bike stations and addresses with the largest bike capacity :\n",
    " \n",
    "      Here the marged dataframe is considered only here. Our key attribute is the 'bike_stands'"
   ]
  },
  {
   "cell_type": "code",
   "execution_count": 357,
   "id": "3445b312",
   "metadata": {},
   "outputs": [
    {
     "data": {
      "text/html": [
       "<div>\n",
       "<style scoped>\n",
       "    .dataframe tbody tr th:only-of-type {\n",
       "        vertical-align: middle;\n",
       "    }\n",
       "\n",
       "    .dataframe tbody tr th {\n",
       "        vertical-align: top;\n",
       "    }\n",
       "\n",
       "    .dataframe thead th {\n",
       "        text-align: right;\n",
       "    }\n",
       "</style>\n",
       "<table border=\"1\" class=\"dataframe\">\n",
       "  <thead>\n",
       "    <tr style=\"text-align: right;\">\n",
       "      <th></th>\n",
       "      <th>bike_station_ID</th>\n",
       "      <th>contract_name</th>\n",
       "      <th>address</th>\n",
       "      <th>position</th>\n",
       "      <th>banking</th>\n",
       "      <th>bonus</th>\n",
       "      <th>bike_stands</th>\n",
       "      <th>available_bike_stands</th>\n",
       "      <th>available_bikes</th>\n",
       "      <th>status</th>\n",
       "      <th>last_update</th>\n",
       "      <th>last_update_time</th>\n",
       "    </tr>\n",
       "  </thead>\n",
       "  <tbody>\n",
       "    <tr>\n",
       "      <th>0</th>\n",
       "      <td>42</td>\n",
       "      <td>dublin</td>\n",
       "      <td>Smithfield North</td>\n",
       "      <td>{'lat': 53.349562, 'lng': -6.278198}</td>\n",
       "      <td>False</td>\n",
       "      <td>False</td>\n",
       "      <td>30</td>\n",
       "      <td>3</td>\n",
       "      <td>27</td>\n",
       "      <td>OPEN</td>\n",
       "      <td>1642558258000</td>\n",
       "      <td>2022-01-19 02:10:58</td>\n",
       "    </tr>\n",
       "    <tr>\n",
       "      <th>1</th>\n",
       "      <td>30</td>\n",
       "      <td>dublin</td>\n",
       "      <td>Parnell Square North</td>\n",
       "      <td>{'lat': 53.353462, 'lng': -6.265305}</td>\n",
       "      <td>False</td>\n",
       "      <td>False</td>\n",
       "      <td>20</td>\n",
       "      <td>20</td>\n",
       "      <td>0</td>\n",
       "      <td>OPEN</td>\n",
       "      <td>1642558255000</td>\n",
       "      <td>2022-01-19 02:10:55</td>\n",
       "    </tr>\n",
       "  </tbody>\n",
       "</table>\n",
       "</div>"
      ],
      "text/plain": [
       "   bike_station_ID contract_name               address  \\\n",
       "0               42        dublin      Smithfield North   \n",
       "1               30        dublin  Parnell Square North   \n",
       "\n",
       "                               position  banking  bonus  bike_stands  \\\n",
       "0  {'lat': 53.349562, 'lng': -6.278198}    False  False           30   \n",
       "1  {'lat': 53.353462, 'lng': -6.265305}    False  False           20   \n",
       "\n",
       "   available_bike_stands  available_bikes status    last_update  \\\n",
       "0                      3               27   OPEN  1642558258000   \n",
       "1                     20                0   OPEN  1642558255000   \n",
       "\n",
       "     last_update_time  \n",
       "0 2022-01-19 02:10:58  \n",
       "1 2022-01-19 02:10:55  "
      ]
     },
     "execution_count": 357,
     "metadata": {},
     "output_type": "execute_result"
    }
   ],
   "source": [
    "All_Data.head(2)"
   ]
  },
  {
   "cell_type": "code",
   "execution_count": 373,
   "id": "eb48b84e",
   "metadata": {},
   "outputs": [],
   "source": [
    "Best_data = All_Data[All_Data['bike_stands']  ==  All_Data['bike_stands'].agg('max')]\n",
    "\n",
    "#Filtering the dataframes with the highest bike stands"
   ]
  },
  {
   "cell_type": "code",
   "execution_count": 381,
   "id": "f3ddd3ab",
   "metadata": {},
   "outputs": [
    {
     "data": {
      "text/html": [
       "<div>\n",
       "<style scoped>\n",
       "    .dataframe tbody tr th:only-of-type {\n",
       "        vertical-align: middle;\n",
       "    }\n",
       "\n",
       "    .dataframe tbody tr th {\n",
       "        vertical-align: top;\n",
       "    }\n",
       "\n",
       "    .dataframe thead th {\n",
       "        text-align: right;\n",
       "    }\n",
       "</style>\n",
       "<table border=\"1\" class=\"dataframe\">\n",
       "  <thead>\n",
       "    <tr style=\"text-align: right;\">\n",
       "      <th></th>\n",
       "      <th>bike_station_ID</th>\n",
       "      <th>address</th>\n",
       "      <th>bike_stands</th>\n",
       "    </tr>\n",
       "  </thead>\n",
       "  <tbody>\n",
       "    <tr>\n",
       "      <th>4</th>\n",
       "      <td>56</td>\n",
       "      <td>Mount Street Lower</td>\n",
       "      <td>40</td>\n",
       "    </tr>\n",
       "    <tr>\n",
       "      <th>9</th>\n",
       "      <td>48</td>\n",
       "      <td>Excise Walk</td>\n",
       "      <td>40</td>\n",
       "    </tr>\n",
       "    <tr>\n",
       "      <th>13</th>\n",
       "      <td>98</td>\n",
       "      <td>Frederick Street South</td>\n",
       "      <td>40</td>\n",
       "    </tr>\n",
       "    <tr>\n",
       "      <th>15</th>\n",
       "      <td>106</td>\n",
       "      <td>Rathdown Road</td>\n",
       "      <td>40</td>\n",
       "    </tr>\n",
       "    <tr>\n",
       "      <th>17</th>\n",
       "      <td>68</td>\n",
       "      <td>Hanover Quay</td>\n",
       "      <td>40</td>\n",
       "    </tr>\n",
       "    <tr>\n",
       "      <th>21</th>\n",
       "      <td>90</td>\n",
       "      <td>Benson Street</td>\n",
       "      <td>40</td>\n",
       "    </tr>\n",
       "    <tr>\n",
       "      <th>25</th>\n",
       "      <td>114</td>\n",
       "      <td>Wilton Terrace (Park)</td>\n",
       "      <td>40</td>\n",
       "    </tr>\n",
       "    <tr>\n",
       "      <th>28</th>\n",
       "      <td>113</td>\n",
       "      <td>Merrion Square South</td>\n",
       "      <td>40</td>\n",
       "    </tr>\n",
       "    <tr>\n",
       "      <th>32</th>\n",
       "      <td>67</td>\n",
       "      <td>The Point</td>\n",
       "      <td>40</td>\n",
       "    </tr>\n",
       "    <tr>\n",
       "      <th>35</th>\n",
       "      <td>62</td>\n",
       "      <td>Lime Street</td>\n",
       "      <td>40</td>\n",
       "    </tr>\n",
       "  </tbody>\n",
       "</table>\n",
       "</div>"
      ],
      "text/plain": [
       "    bike_station_ID                 address  bike_stands\n",
       "4                56      Mount Street Lower           40\n",
       "9                48             Excise Walk           40\n",
       "13               98  Frederick Street South           40\n",
       "15              106           Rathdown Road           40\n",
       "17               68            Hanover Quay           40\n",
       "21               90           Benson Street           40\n",
       "25              114   Wilton Terrace (Park)           40\n",
       "28              113    Merrion Square South           40\n",
       "32               67               The Point           40\n",
       "35               62             Lime Street           40"
      ]
     },
     "execution_count": 381,
     "metadata": {},
     "output_type": "execute_result"
    }
   ],
   "source": [
    "Best_data[['bike_station_ID','address','bike_stands']].head(10)   #selecting required columns"
   ]
  },
  {
   "cell_type": "markdown",
   "id": "599b5587",
   "metadata": {},
   "source": [
    "Above are the bike station and addresses which have the higest capacity"
   ]
  },
  {
   "cell_type": "markdown",
   "id": "c4972535",
   "metadata": {},
   "source": [
    "---"
   ]
  },
  {
   "cell_type": "markdown",
   "id": "ff25badc",
   "metadata": {},
   "source": [
    "CONCLUSION \n",
    "    \n",
    "    From our analysis, there are more bike activity in Evening time.Talbot Street address is a very busy bike station and\n",
    "    Bike station 117 and 3 are the most active and least active bike stations respectivly in the city of Dublin.\n",
    "    \n"
   ]
  },
  {
   "cell_type": "code",
   "execution_count": null,
   "id": "d34d9b80",
   "metadata": {},
   "outputs": [],
   "source": []
  }
 ],
 "metadata": {
  "kernelspec": {
   "display_name": "Python 3",
   "language": "python",
   "name": "python3"
  },
  "language_info": {
   "codemirror_mode": {
    "name": "ipython",
    "version": 3
   },
   "file_extension": ".py",
   "mimetype": "text/x-python",
   "name": "python",
   "nbconvert_exporter": "python",
   "pygments_lexer": "ipython3",
   "version": "3.8.8"
  }
 },
 "nbformat": 4,
 "nbformat_minor": 5
}
