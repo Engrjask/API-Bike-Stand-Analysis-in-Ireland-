{
 "cells": [
  {
   "cell_type": "code",
   "execution_count": 27,
   "id": "9659a366",
   "metadata": {},
   "outputs": [],
   "source": [
    "#importing all necessary libraries needed \n",
    "\n",
    "import os\n",
    "import requests\n",
    "import pandas as pd\n",
    "from pandas import DataFrame, Series "
   ]
  },
  {
   "cell_type": "markdown",
   "id": "620720fc",
   "metadata": {},
   "source": [
    "# Author:  Joseph Ajulo (K00265910)\n",
    "# Task 1 and 2\n",
    "# DATA COLLECTION "
   ]
  },
  {
   "cell_type": "markdown",
   "id": "826a3947",
   "metadata": {},
   "source": [
    "The idea is to get our real time data at different hours of the day within 24hours and for every Data imported \n",
    "we convert it to Dataframe immediately. The time the data was collected will be noted.\n",
    "\n",
    "FIRST DATA COLLECTION 19/01/2022  - 2AM (Late night Data)"
   ]
  },
  {
   "cell_type": "code",
   "execution_count": 29,
   "id": "525b9aa8",
   "metadata": {},
   "outputs": [],
   "source": [
    "  # setup all the necessary variables\n",
    "    \n",
    "key = \"53279eee92c83bfc052ab9bac814ed92d167e3b5\"    ## the API key used for authentication\n",
    "url = 'https://api.jcdecaux.com/vls/v1/stations?'\n",
    "city = 'dublin'\n",
    "bikes = url + \"contract=\" + city + \"&apiKey=\" + key\n",
    "response = requests.get(bikes)  #Getting the data"
   ]
  },
  {
   "cell_type": "code",
   "execution_count": 30,
   "id": "8527673e",
   "metadata": {
    "collapsed": true
   },
   "outputs": [
    {
     "data": {
      "text/plain": [
       "<Response [200]>"
      ]
     },
     "execution_count": 30,
     "metadata": {},
     "output_type": "execute_result"
    }
   ],
   "source": [
    "response"
   ]
  },
  {
   "cell_type": "code",
   "execution_count": 31,
   "id": "9dbdcc7b",
   "metadata": {},
   "outputs": [],
   "source": [
    "data = response.json()      #Retreving the Json"
   ]
  },
  {
   "cell_type": "code",
   "execution_count": 32,
   "id": "cfe68a1b",
   "metadata": {},
   "outputs": [],
   "source": [
    " df = pd.DataFrame(data)    #converting the java scripted file to a Dataframe"
   ]
  },
  {
   "cell_type": "code",
   "execution_count": 33,
   "id": "5e3dbb8e",
   "metadata": {},
   "outputs": [
    {
     "data": {
      "text/plain": [
       "Index(['number', 'contract_name', 'name', 'address', 'position', 'banking',\n",
       "       'bonus', 'bike_stands', 'available_bike_stands', 'available_bikes',\n",
       "       'status', 'last_update'],\n",
       "      dtype='object')"
      ]
     },
     "execution_count": 33,
     "metadata": {},
     "output_type": "execute_result"
    }
   ],
   "source": [
    "df.columns"
   ]
  },
  {
   "cell_type": "code",
   "execution_count": 34,
   "id": "6f44b2b9",
   "metadata": {},
   "outputs": [],
   "source": [
    "#df.to_csv(\"df.csv\", index=False)    #saving the dataframe as CSV file"
   ]
  },
  {
   "cell_type": "markdown",
   "id": "d0f47961",
   "metadata": {},
   "source": [
    "---"
   ]
  },
  {
   "cell_type": "markdown",
   "id": "c848dc2c",
   "metadata": {},
   "source": [
    "SECOND DATA COLLECTION 19/01/2022 - 10:13 AM (Morning Data)"
   ]
  },
  {
   "cell_type": "code",
   "execution_count": 36,
   "id": "d53ba33a",
   "metadata": {},
   "outputs": [],
   "source": [
    "  # setup all the necessary variables\n",
    "    \n",
    "key = \"53279eee92c83bfc052ab9bac814ed92d167e3b5\"    ## the API key used for authentication\n",
    "url = 'https://api.jcdecaux.com/vls/v1/stations?'\n",
    "city = 'dublin'\n",
    "bikes = url + \"contract=\" + city + \"&apiKey=\" + key\n",
    "response = requests.get(bikes)  #Getting the data"
   ]
  },
  {
   "cell_type": "code",
   "execution_count": 38,
   "id": "41a4f9c4",
   "metadata": {},
   "outputs": [],
   "source": [
    "data = response.json()\n",
    "morning_data = pd.DataFrame(data)\n",
    "#morning_data.to_csv(\"df_morning.csv\", index=False)    #saving the dataframe as CSV file"
   ]
  },
  {
   "cell_type": "markdown",
   "id": "b2a8ab66",
   "metadata": {},
   "source": [
    "THIRD DATA COLLECTION 19/01/2022 - 12:40 AM (Noon Data)"
   ]
  },
  {
   "cell_type": "code",
   "execution_count": 41,
   "id": "ebc8dabb",
   "metadata": {},
   "outputs": [],
   "source": [
    "  # setup all the necessary variables\n",
    "    \n",
    "key = \"53279eee92c83bfc052ab9bac814ed92d167e3b5\"    ## the API key used for authentication\n",
    "url = 'https://api.jcdecaux.com/vls/v1/stations?'\n",
    "city = 'dublin'\n",
    "bikes = url + \"contract=\" + city + \"&apiKey=\" + key\n",
    "response = requests.get(bikes)  #Getting the data\n",
    "data = response.json()      #Retreving the Json\n",
    "Noon_data = pd.DataFrame(data) "
   ]
  },
  {
   "cell_type": "code",
   "execution_count": 40,
   "id": "8e5c25c4",
   "metadata": {},
   "outputs": [],
   "source": [
    "Noon_data.to_csv(\"df_Afternoon.csv\", index=False)    #saving the dataframe as CSV file"
   ]
  },
  {
   "cell_type": "markdown",
   "id": "c05a2288",
   "metadata": {},
   "source": [
    "LAST DATA COLLECTION 19/01/2022 - 06:18 AM (Evening Data)"
   ]
  },
  {
   "cell_type": "code",
   "execution_count": 42,
   "id": "f085ecec",
   "metadata": {},
   "outputs": [],
   "source": [
    "  # setup all the necessary variables\n",
    "    \n",
    "key = \"53279eee92c83bfc052ab9bac814ed92d167e3b5\"    ## the API key used for authentication\n",
    "url = 'https://api.jcdecaux.com/vls/v1/stations?'\n",
    "city = 'dublin'\n",
    "bikes = url + \"contract=\" + city + \"&apiKey=\" + key\n",
    "response = requests.get(bikes)  #Getting the data\n",
    "data = response.json()      #Retreving the Json\n",
    "evening_data = pd.DataFrame(data) "
   ]
  },
  {
   "cell_type": "code",
   "execution_count": 43,
   "id": "caf76efb",
   "metadata": {},
   "outputs": [],
   "source": [
    "evening_data.to_csv(\"df_Evening.csv\", index=False)    #saving the dataframe as CSV file"
   ]
  },
  {
   "cell_type": "code",
   "execution_count": null,
   "id": "390d487e",
   "metadata": {},
   "outputs": [],
   "source": []
  }
 ],
 "metadata": {
  "kernelspec": {
   "display_name": "Python 3",
   "language": "python",
   "name": "python3"
  },
  "language_info": {
   "codemirror_mode": {
    "name": "ipython",
    "version": 3
   },
   "file_extension": ".py",
   "mimetype": "text/x-python",
   "name": "python",
   "nbconvert_exporter": "python",
   "pygments_lexer": "ipython3",
   "version": "3.8.8"
  }
 },
 "nbformat": 4,
 "nbformat_minor": 5
}
